{
  "nbformat": 4,
  "nbformat_minor": 0,
  "metadata": {
    "colab": {
      "name": "Chapter 4.ipynb",
      "provenance": [],
      "collapsed_sections": [
        "H71heObrRXlO",
        "WEj-LvMPR7il",
        "Cpoi50_wR8F9"
      ],
      "toc_visible": true
    },
    "kernelspec": {
      "name": "python3",
      "display_name": "Python 3"
    },
    "language_info": {
      "name": "python"
    }
  },
  "cells": [
    {
      "cell_type": "markdown",
      "metadata": {
        "id": "H71heObrRXlO"
      },
      "source": [
        "#### BA4A: Translate an RNA String into an Amino Acid String"
      ]
    },
    {
      "cell_type": "code",
      "metadata": {
        "id": "lmmzKgfyQLaW",
        "colab": {
          "base_uri": "https://localhost:8080/",
          "height": 35
        },
        "outputId": "857395c8-4491-4fd0-8499-cdeec9dfe8ef"
      },
      "source": [
        "\n",
        "\n",
        "def generateKmerwithoutOveralpping(genome):\n",
        "  i = 0\n",
        "  kmers = []\n",
        "  while i <= len(genome)-3+1:\n",
        "    kmers.append(genome[i:i+3])\n",
        "    i += 3\n",
        "  return kmers\n",
        "\n",
        "def TranslateRNAintoAminoAcid(genome):\n",
        "  kmers = generateKmerwithoutOveralpping(genome)\n",
        "  aminoAcid = \"\"\n",
        "  for kmer in kmers:\n",
        "    aminoAcid += aminoCodes[kmer]\n",
        "  return aminoAcid\n",
        "\n",
        "\n",
        "# main fuction\n",
        "aminoCodes = {\n",
        "  'AAA': 'K', \n",
        "  'AAC': 'N', \n",
        "  'AAG': 'K', \n",
        "  'AAU': 'N', \n",
        "  'ACA': 'T', \n",
        "  'ACC': 'T', \n",
        "  'ACG': 'T', \n",
        "  'ACU': 'T', \n",
        "  'AGA': 'R', \n",
        "  'AGC': 'S', \n",
        "  'AGG': 'R', \n",
        "  'AGU': 'S', \n",
        "  'AUA': 'I', \n",
        "  'AUC': 'I', \n",
        "  'AUG': 'M',\n",
        "  'AUU': 'I', \n",
        "  'CAA': 'Q', \n",
        "  'CAC': 'H',  \n",
        "  'CAG': 'Q', \n",
        "  'CAU': 'H',\n",
        "  'CCA': 'P', \n",
        "  'CCC': 'P', \n",
        "  'CCG': 'P', \n",
        "  'CCU': 'P',\n",
        "  'CGA': 'R',\n",
        "  'CGC': 'R', \n",
        "  'CGG': 'R', \n",
        "  'CGU': 'R',\n",
        "  'CUA': 'L', \n",
        "  'CUC': 'L', \n",
        "  'CUG': 'L', \n",
        "  'CUU': 'L', \n",
        "  'GAA': 'E', \n",
        "  'GAC': 'D', \n",
        "  'GAG': 'E', \n",
        "  'GAU': 'D', \n",
        "  'GCA': 'A', \n",
        "  'GCC': 'A', \n",
        "  'GCG': 'A', \n",
        "  'GCU': 'A',\n",
        "  'GGA': 'G', \n",
        "  'GGC': 'G', \n",
        "  'GGG': 'G', \n",
        "  'GGU': 'G', \n",
        "  'GUA': 'V' , \n",
        "  'GUC': 'V', \n",
        "  'GUG': 'V' , \n",
        "  'GUU': 'V', \n",
        "  'UAA': '', \n",
        "  'UAC': 'Y', \n",
        "  'UAG': '', \n",
        "  'UAU': 'Y', \n",
        "  'UCA': 'S', \n",
        "  'UCC': 'S', \n",
        "  'UCG': 'S', \n",
        "  'UCU': 'S', \n",
        "  'UGA': '', \n",
        "  'UGC': 'C', \n",
        "  'UGG': 'W',\n",
        "  'UGU': 'C',\n",
        "  'UUA': 'L', \n",
        "  'UUC': 'F', \n",
        "  'UUG': 'L', \n",
        "  'UUU': 'F'\n",
        "}\n",
        "genome = \"AUGGCCAUGGCGCCCAGAACUGAGAUCAAUAGUACCCGUAUUAACGGGUGA\"\n",
        "TranslateRNAintoAminoAcid(genome)\n"
      ],
      "execution_count": null,
      "outputs": [
        {
          "output_type": "execute_result",
          "data": {
            "application/vnd.google.colaboratory.intrinsic+json": {
              "type": "string"
            },
            "text/plain": [
              "'MAMAPRTEINSTRING'"
            ]
          },
          "metadata": {
            "tags": []
          },
          "execution_count": 20
        }
      ]
    },
    {
      "cell_type": "markdown",
      "metadata": {
        "id": "WEj-LvMPR7il"
      },
      "source": [
        "#### BA4B: Find Substrings of a Genome Encoding a Given Amino Acid String"
      ]
    },
    {
      "cell_type": "code",
      "metadata": {
        "id": "MLBIRhtmR7rr",
        "colab": {
          "base_uri": "https://localhost:8080/"
        },
        "outputId": "c642d3a1-f027-4a57-9b21-66609d885df3"
      },
      "source": [
        "def convertRnatoDna(dnaString):\n",
        "  return dnaString.replace('T', 'U')\n",
        "\n",
        "def ReverseCompDna(dna):\n",
        "  compdna = \"\"\n",
        "  for i in range(len(dna)):\n",
        "    if dna[i] == 'A':\n",
        "      compdna += 'T'\n",
        "    elif dna[i] == 'T':\n",
        "      compdna += 'A'\n",
        "    elif dna[i] == 'C':\n",
        "      compdna += 'G'\n",
        "    elif dna[i] == 'G':\n",
        "      compdna += 'C'\n",
        "  revComp = compdna[::-1]\n",
        "  return revComp\n",
        "\n",
        "def isEncodedbyDNA(dnaString, aminoString):\n",
        "  result = []\n",
        "  k = len(aminoString)\n",
        "  for i in range(len(dnaString)-(k*3)+1):\n",
        "    dna = dnaString[i: i+(len(aminoString)*3)]\n",
        "    rna = convertRnatoDna(dna)\n",
        "    # checking for main string\n",
        "    if TranslateRNAintoAminoAcid(rna) == aminoString:\n",
        "      result.append(dna)\n",
        "    # checking for rev complement string\n",
        "    if TranslateRNAintoAminoAcid(convertRnatoDna(ReverseCompDna(dna))) == aminoString:\n",
        "      result.append(dna)\n",
        "  return result\n",
        "\n",
        "# main function\n",
        "dnaString = \"ATGGCCATGGCCCCCAGAACTGAGATCAATAGTACCCGTATTAACGGGTGA\"\n",
        "aminoString = \"MA\"\n",
        "\n",
        "result = isEncodedbyDNA(dnaString, aminoString)\n",
        "for r in result:\n",
        "  print(r)\n",
        "\n"
      ],
      "execution_count": null,
      "outputs": [
        {
          "output_type": "stream",
          "text": [
            "ATGGCC\n",
            "GGCCAT\n",
            "ATGGCC\n"
          ],
          "name": "stdout"
        }
      ]
    },
    {
      "cell_type": "markdown",
      "metadata": {
        "id": "Bkp10jJWR73S"
      },
      "source": [
        "#### BA4C: Generate the Theoretical Spectrum of a Cyclic Peptide"
      ]
    },
    {
      "cell_type": "code",
      "metadata": {
        "id": "AhgMF5cdR7_b",
        "colab": {
          "base_uri": "https://localhost:8080/"
        },
        "outputId": "7f016c35-5f04-4c32-f219-51ddb84fd21b"
      },
      "source": [
        "mass = {\n",
        "  'G':57, \n",
        "  'A':71, \n",
        "  'S':87, \n",
        "  'P':97, \n",
        "  'V':99, \n",
        "  'T':101, \n",
        "  'C':103, \n",
        "  'I':113, \n",
        "  'L':113, \n",
        "  'N':114, \n",
        "  'D':115, \n",
        "  'K':128, \n",
        "  'Q':128, \n",
        "  'E':129, \n",
        "  'M':131, \n",
        "  'H':137, \n",
        "  'F':147, \n",
        "  'R':156, \n",
        "  'Y':163, \n",
        "  'W':186\n",
        "}\n",
        "\n",
        "def CalculateMass(peptide):\n",
        "  val = 0\n",
        "  for pep in peptide:\n",
        "    val += mass[pep]\n",
        "  return val\n",
        "\n",
        "def GenerateTheoraticalSpectrum(peptide):\n",
        "  res = [0]\n",
        "  l = len(peptide)\n",
        "  for i in range(1, l): # will traverse 1,2,3 for 4\n",
        "    for j in range(l):\n",
        "      if (i+j) > l:\n",
        "        idx = i+j-l # for cyclic\n",
        "        subpeptide = peptide[j:] + peptide[:idx]\n",
        "        res.append(CalculateMass(subpeptide))\n",
        "      else:\n",
        "        res.append(CalculateMass(peptide[j:j+i]))\n",
        "  res.append(CalculateMass(peptide))\n",
        "  res.sort()\n",
        "  return res\n",
        "\n",
        "\n",
        "# main\n",
        "peptide = \"LEQN\"\n",
        "ans = GenerateTheoraticalSpectrum(peptide)\n",
        "for i in ans:\n",
        "  print(i, end=\" \")"
      ],
      "execution_count": null,
      "outputs": [
        {
          "output_type": "stream",
          "text": [
            "0 113 114 128 129 227 242 242 257 355 356 370 371 484 "
          ],
          "name": "stdout"
        }
      ]
    },
    {
      "cell_type": "markdown",
      "metadata": {
        "id": "lHTLvCKhqVHZ"
      },
      "source": [
        "#### BA4H: Generate the Convolution of a Spectrum"
      ]
    },
    {
      "cell_type": "code",
      "metadata": {
        "colab": {
          "base_uri": "https://localhost:8080/"
        },
        "id": "YtwS7ncHqYZB",
        "outputId": "8195d9c4-b1dc-4c6a-b85c-1a4c0ff3e0e8"
      },
      "source": [
        "\n",
        "def GenerateConvolutionSpectrum(spectrum):\n",
        "  output = [] # subtraction vaue\n",
        "  for i in spectrum: # row val\n",
        "    for j in spectrum: # col val\n",
        "      if (i-j) > 0:\n",
        "        output.append(i-j) \n",
        "  \n",
        "  # counting frequency\n",
        "  freq = {}\n",
        "  for item in output:\n",
        "    if item in freq:\n",
        "      freq[item] += 1\n",
        "    else:\n",
        "      freq[item] = 1\n",
        "  \n",
        "  # s\n",
        "  sorted_list = [k for k, j in sorted(freq.items(), key=lambda item: item[1], reverse=True)] #sorts by count and returns key\n",
        "  \n",
        "  # multiplying with frequency \n",
        "  ans = []\n",
        "  for item in sorted_list:\n",
        "      ans += [item] * freq[item]\n",
        "  return ans\n",
        "\n",
        "# main function\n",
        "with open('/content/drive/MyDrive/Bioinformatics Lab/Rosalind Dataset/Lab Task 6/rosalind_ba4h.txt', 'r') as f:\n",
        "  for line in f:  #Line is a string, split the string on whitespace\n",
        "    numbers_str = line.split()\n",
        "    #convert numbers to int\n",
        "    spectrum = [int(x) for x in numbers_str] \n",
        "\n",
        "result = GenerateConvolutionSpectrum(spectrum)\n",
        "for i in result:\n",
        "  print(i, end=\" \")"
      ],
      "execution_count": 1,
      "outputs": [
        {
          "output_type": "stream",
          "text": [
            "137 137 186 186 49 323 "
          ],
          "name": "stdout"
        }
      ]
    }
  ]
}