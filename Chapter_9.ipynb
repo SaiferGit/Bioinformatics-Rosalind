{
  "nbformat": 4,
  "nbformat_minor": 0,
  "metadata": {
    "colab": {
      "name": "Chapter 9.ipynb",
      "provenance": [],
      "collapsed_sections": []
    },
    "kernelspec": {
      "name": "python3",
      "display_name": "Python 3"
    },
    "language_info": {
      "name": "python"
    }
  },
  "cells": [
    {
      "cell_type": "markdown",
      "metadata": {
        "id": "1nm4_la4C1nl"
      },
      "source": [
        "#### BA9G: Construct the Suffix Array of a String"
      ]
    },
    {
      "cell_type": "code",
      "metadata": {
        "colab": {
          "base_uri": "https://localhost:8080/"
        },
        "id": "dGIktXPwC6Tc",
        "outputId": "caa13dc8-592e-4a7b-8fab-cec6fd08bdb8"
      },
      "source": [
        "def ConsturctSuffixArray(text):\n",
        "  length = len(text)\n",
        "  dect = {}\n",
        "  for i in range(length):\n",
        "    dect[i] = text[i:]\n",
        "  # sorting method: lexicographica\n",
        "  # lexicographically applying on dictionary values\n",
        "  # output will be dictionary keys, where we stored our index \n",
        "  return sorted(dect.keys(), key=lambda x:dect[x])\n",
        "\n",
        "# main function\n",
        "text = \"AACGATAGCGGTAGA$\"\n",
        "result = ConsturctSuffixArray(text)\n",
        "print(', '.join(str(x) for x in result))"
      ],
      "execution_count": 3,
      "outputs": [
        {
          "output_type": "stream",
          "text": [
            "15, 14, 0, 1, 12, 6, 4, 2, 8, 13, 3, 7, 9, 10, 11, 5\n"
          ],
          "name": "stdout"
        }
      ]
    },
    {
      "cell_type": "markdown",
      "metadata": {
        "id": "H71heObrRXlO"
      },
      "source": [
        "#### BA9I: Construct the Burrows-Wheeler Transform of a String"
      ]
    },
    {
      "cell_type": "code",
      "metadata": {
        "id": "lmmzKgfyQLaW",
        "colab": {
          "base_uri": "https://localhost:8080/"
        },
        "outputId": "2ada74de-ab0b-4e95-9c8d-45af0dcb2d70"
      },
      "source": [
        "\n",
        "def BWT(text):\n",
        "  l = len(text)\n",
        "  seq = text + text # for cyclic rotation\n",
        "  \n",
        "  rotations = []\n",
        "  for i in range(l):\n",
        "    rotations.append(seq[i:i+l])\n",
        "  \n",
        "  # now sorting rotations into lexicographical order\n",
        "  rotations.sort()\n",
        "\n",
        "  # our result will be in the last col\n",
        "  res = \"\"\n",
        "  for rot in rotations:\n",
        "    res += rot[-1]\n",
        "  return res\n",
        "\n",
        "# main function\n",
        "with open('/content/drive/MyDrive/Bioinformatics Lab/Rosalind Dataset/Lab Task 7/rosalind_ba9i.txt', 'r') as f:\n",
        "  text = f.readline().strip()\n",
        "print(BWT(text))"
      ],
      "execution_count": null,
      "outputs": [
        {
          "output_type": "stream",
          "text": [
            "ACTGGCT$TGCGGC\n"
          ],
          "name": "stdout"
        }
      ]
    },
    {
      "cell_type": "markdown",
      "metadata": {
        "id": "WEj-LvMPR7il"
      },
      "source": [
        "#### BA9J: Reconstruct a String from its Burrows-Wheeler Transform"
      ]
    },
    {
      "cell_type": "code",
      "metadata": {
        "id": "MLBIRhtmR7rr",
        "colab": {
          "base_uri": "https://localhost:8080/"
        },
        "outputId": "92bf64b6-e773-40e7-f7e7-cae02ea08006"
      },
      "source": [
        "def ReconstructString(bwt):\n",
        "  matrix = [\"\"] * len(bwt) #make an empty list for forming cycle\n",
        "  \n",
        "  for i in range(len(bwt)):\n",
        "    # adding bwt[i] + mat[i] then sort\n",
        "    matrix = [bwt[i] + matrix[i] for i in range(len(bwt))] \n",
        "    matrix = sorted(matrix)\n",
        "  \n",
        "  for string in matrix:\n",
        "    if string.endswith(\"$\"):\n",
        "      print(string)\n",
        "\n",
        "# main function\n",
        "with open('/content/drive/MyDrive/Bioinformatics Lab/Rosalind Dataset/Lab Task 7/rosalind_ba9j.txt', 'r') as f:\n",
        "  bwt = f.readline().strip()\n",
        "ReconstructString(bwt)"
      ],
      "execution_count": null,
      "outputs": [
        {
          "output_type": "stream",
          "text": [
            "TACATCACGT$\n"
          ],
          "name": "stdout"
        }
      ]
    },
    {
      "cell_type": "markdown",
      "metadata": {
        "id": "Bkp10jJWR73S"
      },
      "source": [
        "#### BA9K: Generate the Last-to-First Mapping of a String"
      ]
    },
    {
      "cell_type": "code",
      "metadata": {
        "id": "AhgMF5cdR7_b",
        "colab": {
          "base_uri": "https://localhost:8080/"
        },
        "outputId": "9f8c260d-bc71-4dd5-c40f-d6469dbb4b6f"
      },
      "source": [
        "\n",
        "def LastToFirst(bwt, idx):\n",
        "  count = {}\n",
        "  lastcol = []\n",
        "\n",
        "  # forming all characters with their count\n",
        "  for ch in bwt:\n",
        "    if ch not in count:\n",
        "      count[ch] = 1\n",
        "    else:\n",
        "      count[ch] += 1\n",
        "    lastcol.append(ch+str(count[ch]))\n",
        "  \n",
        "  # value of last col is sorted lexicographically using characters\n",
        "  firstcol = sorted(lastcol, key = lambda x: x[0])\n",
        "\n",
        "  for ch in firstcol:\n",
        "    if ch == lastcol[idx]:\n",
        "      return firstcol.index(ch)\n",
        "\n",
        "  \n",
        "\n",
        "# main function\n",
        "bwt = \"CAGTGATTAGCCTCAATCCTTGACTCGTGACAGGCACCGGAATATTAAGACGATTGTCATCATAAGGAGATCTGGCTGTCTGCCGTGATTTCCCAATTCATGGCAAAGGGGTTCCTTAGGAGTGGGCCGTGAGCCTTCCCAGGGCCCCCCATCAAGCGATGGACGGCCACCCCCTCGCAATTATCACTTCCTACGTTTCTTGCTGTGGGCCTCTGACTGTGTAACAATTTGCATACAACGGTTGAGGTTCCCCGTGAACGACGGCGTCCATTAAAACCACGAATAGTTTAGGTGGTCACAATAGGCATAGCTCTGAGCGCGTGGTTATTACACCCAGAGAGATGCAAGTCCGTAAACGAATGTTCACACACGGTCGGATACATCCTATGCCATGAGACCATTCAATTGCCGCCCCTAAAGATCCAGAGGAGGTATGTTTACCTAGAAAACAAAGCGTGAGTGGCAGTCTCGTCAGATTTGTAACAACGAAGCGTGCCTCGTCTGTCTGCGGAACTTAATTGTTGTCTCGTCAACACTCGGGGGTTTCTACGGAATCGGCCGAAGACAATCACGCGATGGGGTTTCGGCCTGAGCATAAGTCTAATTTAGGTTTAAACCAGTACACCAAAGGGGAATCCTATCTGCTGAGCAGCCTAGACCTCGGCTATCATTAACCGTACTGCTTTCTAGTAAGGCTGCGGCTTGGTCGGCCATCGAATCCCTATGTACTCTGCGCTAGTATAATTTGAAGCGTATTTCCGCTCGTAAATACCGTATAGGGGGGTACCAATGCCTGCCGGGCTGAACGAAGTGCAGTAAAAAGCGTTTGGTTCTATGAAGCGTCTGATCGAAGGTCGTGGGCGTTGCCCTTATTTGATTACCCCCTCCAACACGCTTCGCGCGATGACCAAGCTGCGTGGCGAGCTCAAGTTACCT$\"\n",
        "idx = 805\n",
        "\n",
        "LastToFirst(bwt, idx)"
      ],
      "execution_count": null,
      "outputs": [
        {
          "output_type": "execute_result",
          "data": {
            "text/plain": [
              "199"
            ]
          },
          "metadata": {
            "tags": []
          },
          "execution_count": 70
        }
      ]
    },
    {
      "cell_type": "code",
      "metadata": {
        "id": "kIykhKUkPum1"
      },
      "source": [
        ""
      ],
      "execution_count": null,
      "outputs": []
    }
  ]
}